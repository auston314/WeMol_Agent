{
 "cells": [
  {
   "cell_type": "code",
   "execution_count": 8,
   "id": "1bdd980f-e1d9-4aed-bb4c-1ae3dfc3350f",
   "metadata": {},
   "outputs": [
    {
     "name": "stdout",
     "output_type": "stream",
     "text": [
      "\n",
      "Analyzing query: What is a solution?\n",
      "Generating embeddings for 1 texts in 1 batches...\n",
      "A solution is a homogeneous mixture, meaning that the composition and properties of the mixture are uniform throughout its entire volume.\n"
     ]
    }
   ],
   "source": [
    "from content_tree import *\n",
    "from llm_client_adaptor import LLMClientAdaptor\n",
    "import requests\n",
    "import json\n",
    "import pickle\n",
    "import time\n",
    "\n",
    "with open('genchem_question_full.pkl', 'rb') as f:\n",
    "    content_tree = pickle.load(f)\n",
    "\n",
    "query = \"What is a solution?\"\n",
    "print(f\"\\nAnalyzing query: {query}\")\n",
    "llm_client = LLMClientAdaptor(provider=\"openai\", model=\"gpt-4o\")\n",
    "\n",
    "top_k = 1\n",
    "answer = content_tree.rag_query(query, top_k, llm_client)\n",
    "print(answer)"
   ]
  },
  {
   "cell_type": "code",
   "execution_count": null,
   "id": "e15e69ce-66b6-40d2-a68e-3eb2a3ab3bc1",
   "metadata": {},
   "outputs": [],
   "source": []
  }
 ],
 "metadata": {
  "kernelspec": {
   "display_name": "Python 3 (ipykernel)",
   "language": "python",
   "name": "python3"
  },
  "language_info": {
   "codemirror_mode": {
    "name": "ipython",
    "version": 3
   },
   "file_extension": ".py",
   "mimetype": "text/x-python",
   "name": "python",
   "nbconvert_exporter": "python",
   "pygments_lexer": "ipython3",
   "version": "3.12.11"
  }
 },
 "nbformat": 4,
 "nbformat_minor": 5
}
